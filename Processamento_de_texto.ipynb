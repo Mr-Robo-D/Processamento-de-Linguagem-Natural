{
  "nbformat": 4,
  "nbformat_minor": 0,
  "metadata": {
    "colab": {
      "provenance": [],
      "toc_visible": true,
      "authorship_tag": "ABX9TyONSX5CeTThYDxJpevxY+H5",
      "include_colab_link": true
    },
    "kernelspec": {
      "name": "python3",
      "display_name": "Python 3"
    },
    "language_info": {
      "name": "python"
    }
  },
  "cells": [
    {
      "cell_type": "markdown",
      "metadata": {
        "id": "view-in-github",
        "colab_type": "text"
      },
      "source": [
        "<a href=\"https://colab.research.google.com/github/Mr-Robo-D/Processamento-de-Linguagem-Natural/blob/main/Processamento_de_texto.ipynb\" target=\"_parent\"><img src=\"https://colab.research.google.com/assets/colab-badge.svg\" alt=\"Open In Colab\"/></a>"
      ]
    },
    {
      "cell_type": "markdown",
      "source": [
        "Pre processamento de textos\n",
        "\n",
        "Instruções\n",
        "\n",
        "Contexto: Você foi contratado por uma empresa de marketing digital para analisar comentários de clientes em uma rede social. Para começar a análise, é necessário limpar os dados e deixá-los em um formato adequado para a aplicação de algoritmos de NLP.\n",
        "\n",
        "Tarefa: Crie uma função que\n",
        "Converta todas as palavras para minúsculas.\n",
        "Elimine caracteres especiais (pontuação, emojis, etc.).\n",
        "Retorne uma lista com as palavras pré-processadas\n",
        "Exemplo de parâmetro:\n",
        "\"Adorei o produto! Super recomendo 😍\"\n",
        "\n",
        "Exemplo de retorno:\n",
        "[\"adorei\", \"o\", \"produto\", \"super\", \"recomendo\"]"
      ],
      "metadata": {
        "id": "qrQ09LBJbfEX"
      }
    },
    {
      "cell_type": "code",
      "source": [
        "import re"
      ],
      "metadata": {
        "id": "E9cFtKuT3qqu"
      },
      "execution_count": null,
      "outputs": []
    },
    {
      "cell_type": "code",
      "execution_count": null,
      "metadata": {
        "id": "P4ublK7y1_a1"
      },
      "outputs": [],
      "source": [
        "texto = \"Olá, mundo! 🌍 Como você está? #Python\""
      ]
    },
    {
      "cell_type": "code",
      "source": [
        "texto_minusculo = texto.lower()\n",
        "print(\" Texto em caixa baixa:\\n\\n\",texto_minusculo)"
      ],
      "metadata": {
        "colab": {
          "base_uri": "https://localhost:8080/"
        },
        "id": "_M5v5-xT2Ocw",
        "outputId": "2ab74e44-2610-4847-d148-787a4427fb9f"
      },
      "execution_count": null,
      "outputs": [
        {
          "output_type": "stream",
          "name": "stdout",
          "text": [
            " Texto em caixa baixa:\n",
            "\n",
            " olá, mundo! 🌍 como você está? #python\n"
          ]
        }
      ]
    },
    {
      "cell_type": "code",
      "source": [
        "texto_sem_caracter_especial = re.sub(r'[^\\w\\s]', '', texto_minusculo)\n",
        "print(\"Texto sem caracter especial:\", texto_sem_caracter_especial)"
      ],
      "metadata": {
        "colab": {
          "base_uri": "https://localhost:8080/"
        },
        "id": "_MYLVUd72uQJ",
        "outputId": "74e6e118-2161-4396-a744-0e0cb1a40740"
      },
      "execution_count": null,
      "outputs": [
        {
          "output_type": "stream",
          "name": "stdout",
          "text": [
            "texto sem caracter especial: olá mundo  como você está python\n"
          ]
        }
      ]
    },
    {
      "cell_type": "code",
      "source": [
        "lista_processada = texto_sem_caracter_especial.split()\n",
        "print(f'Texto original: {texto}\\n')\n",
        "print(f'Texto processado: {lista_processada}')"
      ],
      "metadata": {
        "colab": {
          "base_uri": "https://localhost:8080/"
        },
        "id": "KooDL6GC37UN",
        "outputId": "1e9c26cf-7bbc-4c0e-bc27-e6a6e6e9ec2f"
      },
      "execution_count": null,
      "outputs": [
        {
          "output_type": "stream",
          "name": "stdout",
          "text": [
            "Texto original: Olá, mundo! 🌍 Como você está? #Python\n",
            "\n",
            "Texto processado: ['olá', 'mundo', 'como', 'você', 'está', 'python']\n"
          ]
        }
      ]
    }
  ]
}