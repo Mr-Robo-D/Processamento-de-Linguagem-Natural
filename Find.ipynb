{
  "nbformat": 4,
  "nbformat_minor": 0,
  "metadata": {
    "colab": {
      "provenance": [],
      "authorship_tag": "ABX9TyOO6MVI+PmIuM85d2HQf7BW",
      "include_colab_link": true
    },
    "kernelspec": {
      "name": "python3",
      "display_name": "Python 3"
    },
    "language_info": {
      "name": "python"
    }
  },
  "cells": [
    {
      "cell_type": "markdown",
      "metadata": {
        "id": "view-in-github",
        "colab_type": "text"
      },
      "source": [
        "<a href=\"https://colab.research.google.com/github/Mr-Robo-D/Processamento-de-Linguagem-Natural/blob/main/Find.ipynb\" target=\"_parent\"><img src=\"https://colab.research.google.com/assets/colab-badge.svg\" alt=\"Open In Colab\"/></a>"
      ]
    },
    {
      "cell_type": "markdown",
      "source": [
        "Com base no texto abaixo faça um código para extrair o texto que está entre o primeiro (.) e a primeira (,)\n",
        "\n",
        "Utilize a função find para localizar as posições do ponto e da virgula no texto e em seguida faça um laço for para gerar um texto novo com os caracteres entre o ponto e a virgula\n",
        "\n",
        "\n",
        "texto = \"\"\"\n",
        "Python é uma linguagem de programação poderosa e versátil.\n",
        "É amplamente utilizada em desenvolvimento web, ciência de dados,\n",
        "inteligência artificial e muito mais.\n",
        "\"\"\""
      ],
      "metadata": {
        "id": "4Wxk_RfnaYak"
      }
    },
    {
      "cell_type": "code",
      "source": [
        "texto = \"\"\"Python é uma linguagem de programação poderosa e versátil.\n",
        "É amplamente utilizada em desenvolvimento web, ciência de dados,\n",
        "inteligência artificial e muito mais.\"\"\""
      ],
      "metadata": {
        "id": "7NvjCxkLyS9l"
      },
      "execution_count": null,
      "outputs": []
    },
    {
      "cell_type": "code",
      "source": [
        "novo_texto = \"\"\n",
        "ponto = texto.find('.')\n",
        "virgula = texto.find(',')"
      ],
      "metadata": {
        "id": "_UpU0OT2zfMj"
      },
      "execution_count": null,
      "outputs": []
    },
    {
      "cell_type": "code",
      "source": [
        "for i in range(ponto+1,virgula):\n",
        "  novo_texto += texto[i]\n",
        "print(novo_texto)"
      ],
      "metadata": {
        "colab": {
          "base_uri": "https://localhost:8080/"
        },
        "id": "5_UWpvdeznCG",
        "outputId": "f83ce02c-fdf4-4336-95df-f93a2ab23caa"
      },
      "execution_count": null,
      "outputs": [
        {
          "output_type": "stream",
          "name": "stdout",
          "text": [
            "\n",
            "É amplamente utilizada em desenvolvimento web\n"
          ]
        }
      ]
    }
  ]
}