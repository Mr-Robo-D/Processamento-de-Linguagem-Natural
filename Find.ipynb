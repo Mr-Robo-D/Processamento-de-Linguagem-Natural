{
  "nbformat": 4,
  "nbformat_minor": 0,
  "metadata": {
    "colab": {
      "provenance": [],
      "authorship_tag": "ABX9TyPMHGdDnxH6J5ZWub4M/Rp7",
      "include_colab_link": true
    },
    "kernelspec": {
      "name": "python3",
      "display_name": "Python 3"
    },
    "language_info": {
      "name": "python"
    }
  },
  "cells": [
    {
      "cell_type": "markdown",
      "metadata": {
        "id": "view-in-github",
        "colab_type": "text"
      },
      "source": [
        "<a href=\"https://colab.research.google.com/github/Mr-Robo-D/Processamento-de-Linguagem-Natural/blob/main/Find.ipynb\" target=\"_parent\"><img src=\"https://colab.research.google.com/assets/colab-badge.svg\" alt=\"Open In Colab\"/></a>"
      ]
    },
    {
      "cell_type": "code",
      "execution_count": null,
      "metadata": {
        "id": "gaD8ndVtrt3y"
      },
      "outputs": [],
      "source": [
        "texto = \"\"\"Python é uma linguagem de programação poderosa e versátil.\n",
        "É amplamente utilizada em desenvolvimento web, ciência de dados,\n",
        "inteligência artificial e muito mais.\"\"\"\n"
      ]
    },
    {
      "cell_type": "code",
      "source": [
        "novo_texto = \"\"\n",
        "ponto = texto.find('.')\n",
        "virgula = texto.find(',')"
      ],
      "metadata": {
        "id": "7R4ZGtW-xoL0"
      },
      "execution_count": null,
      "outputs": []
    },
    {
      "cell_type": "code",
      "source": [
        "for i in range(ponto+1,virgula):\n",
        "  novo_texto += texto[i]\n",
        "print(novo_texto)"
      ],
      "metadata": {
        "colab": {
          "base_uri": "https://localhost:8080/"
        },
        "id": "Z0UlEgXdyNUE",
        "outputId": "dbf92646-1a9f-42b3-c4d5-847962d75146"
      },
      "execution_count": null,
      "outputs": [
        {
          "output_type": "stream",
          "name": "stdout",
          "text": [
            "\n",
            "É amplamente utilizada em desenvolvimento web\n"
          ]
        }
      ]
    },
    {
      "cell_type": "code",
      "source": [
        "texto = \"\"\"Python é uma linguagem de programação poderosa e versátil.\n",
        "É amplamente utilizada em desenvolvimento web, ciência de dados,\n",
        "inteligência artificial e muito mais.\"\"\""
      ],
      "metadata": {
        "id": "7NvjCxkLyS9l"
      },
      "execution_count": 15,
      "outputs": []
    },
    {
      "cell_type": "code",
      "source": [
        "novo_texto = \"\"\n",
        "ponto = texto.find('.')\n",
        "virgula = texto.find(',')"
      ],
      "metadata": {
        "id": "_UpU0OT2zfMj"
      },
      "execution_count": 16,
      "outputs": []
    },
    {
      "cell_type": "code",
      "source": [
        "for i in range(ponto+1,virgula):\n",
        "  novo_texto += texto[i]\n",
        "print(novo_texto)"
      ],
      "metadata": {
        "colab": {
          "base_uri": "https://localhost:8080/"
        },
        "id": "5_UWpvdeznCG",
        "outputId": "1013e6a2-f7f0-4807-f275-52ec4e35e177"
      },
      "execution_count": 17,
      "outputs": [
        {
          "output_type": "stream",
          "name": "stdout",
          "text": [
            "\n",
            "É amplamente utilizada em desenvolvimento web\n"
          ]
        }
      ]
    }
  ]
}