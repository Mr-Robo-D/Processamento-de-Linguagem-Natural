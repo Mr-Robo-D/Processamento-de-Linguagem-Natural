{
  "nbformat": 4,
  "nbformat_minor": 0,
  "metadata": {
    "colab": {
      "provenance": [],
      "authorship_tag": "ABX9TyNWeuJ9h6mImjmRKQHkdHL8",
      "include_colab_link": true
    },
    "kernelspec": {
      "name": "python3",
      "display_name": "Python 3"
    },
    "language_info": {
      "name": "python"
    }
  },
  "cells": [
    {
      "cell_type": "markdown",
      "metadata": {
        "id": "view-in-github",
        "colab_type": "text"
      },
      "source": [
        "<a href=\"https://colab.research.google.com/github/Mr-Robo-D/Processamento-de-Linguagem-Natural/blob/main/riqueza_lexical.ipynb\" target=\"_parent\"><img src=\"https://colab.research.google.com/assets/colab-badge.svg\" alt=\"Open In Colab\"/></a>"
      ]
    },
    {
      "cell_type": "markdown",
      "source": [
        "Riqueza Lexical de Textos\n",
        "\n",
        "Instruções\n",
        "\n",
        "Você foi contratado por uma empresa de análise de mídias digitais chamada MediaInsights para realizar um estudo sobre a riqueza lexical de conteúdos publicados em blogs de diferentes áreas. O objetivo é identificar se blogs de nichos distintos apresentam variações significativas na variedade de vocabulário utilizado. Com base nisso, a empresa poderá fornecer insights valiosos para seus clientes sobre a qualidade dos conteúdos produzidos em suas respectivas áreas.\n",
        "\n",
        "Cenário:\n",
        "Descrição da Empresa: MediaInsights é uma empresa especializada em análise de mídias digitais, focando em avaliar a qualidade dos conteúdos textuais publicados na internet. Seus clientes incluem empresas de marketing digital, blogueiros influentes e pesquisadores acadêmicos.\n",
        "\n",
        "Objetivo do Projeto: A empresa deseja entender melhor como a riqueza lexical varia entre blogs de diferentes nichos, como tecnologia, saúde e moda. Esse estudo ajudará os clientes da MediaInsights a melhorar a qualidade dos seus conteúdos, tornando-os mais ricos e envolventes.\n",
        "\n",
        "Sua Tarefa: Como parte da equipe de análise de dados, você foi designado para coletar e analisar textos de três blogs distintos, cada um pertencendo a um dos seguintes nichos: tecnologia, saúde e moda. Você deve realizar o pré-processamento dos textos, tokenização, construção do vocabulário e cálculo da riqueza lexical para cada texto. Além disso, você precisa comparar os resultados e qual dos textos apresenta uma riqueza lexical maior.\n",
        "\n",
        "Instruções:\n",
        "Seleção dos Textos:\n",
        "\n",
        "Escolha um texto de um blog sobre tecnologia, um de um blog sobre saúde e um de um blog sobre moda.\n",
        "\n",
        "Pré-processamento e Análise:\n",
        "\n",
        "Siga os passos de pré-processamento dos textos, tokenização, construção do vocabulário e cálculo da riqueza lexical conforme mostrado em aula.\n",
        "\n",
        "Relatório:\n",
        "\n",
        "Compare os resultados dos três textos e informe qual deles apresenta a melhor riqueza lexical"
      ],
      "metadata": {
        "id": "oaIZYnl18VP8"
      }
    },
    {
      "cell_type": "code",
      "execution_count": 26,
      "metadata": {
        "id": "pLMiV2Nk8N3j"
      },
      "outputs": [],
      "source": [
        "tecnologia = \"\"\"A era da tecnologia avança a passos largos, redefinindo a forma como vivemos e interagimos. Com a internet das coisas, dispositivos estão mais conectados\n",
        "do que nunca, facilitando nossas tarefas diárias. O aprendizado de máquina e a inteligência artificial transformam setores como saúde, transporte e educação.\n",
        "Nuvens de dados permitem acesso a informações em tempo real, proporcionando tomadas de decisão mais eficazes. A automação revoluciona indústrias, aumentando a\n",
        "eficiência e reduzindo erros humanos. No entanto, esses avanços trazem desafios éticos e de privacidade que precisam ser abordados. A segurança cibernética se\n",
        "torna crucial para proteger dados sensíveis. O desenvolvimento sustentável é imperativo, visando minimizar o impacto ambiental. A tecnologia deve ser inclusiva,\n",
        "garantindo acesso igualitário para todos. A inovação contínua moldará nosso futuro de maneiras inimagináveis.\"\"\"\n",
        "\n",
        "saude = \"\"\"A saúde é um bem precioso, e cuidar dela deve ser uma prioridade constante. Adotar hábitos saudáveis, como alimentação balanceada e atividade física regular,\n",
        "é fundamental. Consultas médicas de rotina ajudam na detecção precoce de doenças e na promoção de um bem-estar duradouro. A saúde mental é igualmente importante, e\n",
        "buscar apoio psicológico pode fazer a diferença. Avanços na medicina e na biotecnologia proporcionam tratamentos mais eficazes e personalizados. Programas de\n",
        "vacinação são essenciais para a prevenção de doenças contagiosas. A educação em saúde capacita indivíduos a tomarem decisões informadas sobre seu bem-estar.\n",
        "A acessibilidade aos serviços de saúde deve ser garantida para toda a população. O autocuidado e a gestão do estresse são elementos-chave para uma vida saudável.\n",
        "Investir em saúde é investir em qualidade de vida.\"\"\"\n",
        "\n",
        "moda = \"\"\"A moda é uma forma de expressão que transcende o tempo e as tendências passageiras. Ela reflete identidade, cultura e valores, sendo um espelho da sociedade\n",
        "em que vivemos. O design de moda combina criatividade, arte e funcionalidade, resultando em peças únicas e inspiradoras. A sustentabilidade na moda ganha\n",
        "destaque, promovendo práticas éticas e ecológicas. A moda inclusiva valoriza a diversidade e celebra todos os corpos, tamanhos e gêneros. Novas tecnologias,\n",
        "como impressão 3D, abrem possibilidades inovadoras no design de roupas. Desfiles de moda são verdadeiros espetáculos, onde estilistas apresentam suas criações\n",
        "visionárias. A moda de rua é um movimento autêntico que influencia e é influenciado pela cultura urbana. A história da moda revela a evolução dos estilos ao\n",
        "longo dos séculos. A moda é uma jornada constante de reinvenção e autoexpressão.\"\"\""
      ]
    },
    {
      "cell_type": "markdown",
      "source": [],
      "metadata": {
        "id": "o-3pvv5z9xnv"
      }
    },
    {
      "cell_type": "code",
      "source": [
        "tecnologia = tecnologia.lower()\n",
        "#print(\"texto lower:\", tecnologia)\n",
        "saude = saude.lower()\n",
        "#print(\"texto lower:\", saude)\n",
        "moda = moda.lower()\n",
        "#print(\"texto lower:\", moda)"
      ],
      "metadata": {
        "id": "hdmMupVb9-ot"
      },
      "execution_count": 27,
      "outputs": []
    },
    {
      "cell_type": "code",
      "source": [
        "import re\n",
        "\n",
        "tecnologia = re.sub(r'[^\\w\\s]', '', tecnologia)\n",
        "#print(\"texto_especial:\", tecnologia)\n",
        "saude = re.sub(r'[^\\w\\s]', '', saude)\n",
        "#print(\"texto_especial:\", saude)\n",
        "moda = re.sub(r'[^\\w\\s]', '', moda)\n",
        "#print(\"texto_especial:\", moda)"
      ],
      "metadata": {
        "id": "bqktFfny-G0D"
      },
      "execution_count": 28,
      "outputs": []
    },
    {
      "cell_type": "code",
      "source": [
        "lista_tecnologia = tecnologia.split()\n",
        "#print(f'texto_limpo: {lista_tecnologia}')\n",
        "\n",
        "lista_saude = saude.split()\n",
        "#print(f'texto_limpo: {lista_saude}')\n",
        "\n",
        "lista_moda = moda.split()\n",
        "#print(f'texto_limpo: {lista_moda}')"
      ],
      "metadata": {
        "id": "YwOaTyZR-Pwo"
      },
      "execution_count": 29,
      "outputs": []
    },
    {
      "cell_type": "code",
      "source": [
        "vocabulario_tecnologia = dict()\n",
        "for token in lista_tecnologia:\n",
        "  if token in vocabulario_tecnologia:\n",
        "    vocabulario_tecnologia[token] +=1\n",
        "else:\n",
        "    vocabulario_tecnologia[token] = 1\n",
        "x_tecnologia = vocabulario_tecnologia.keys()\n",
        "riqueza_lexical_tecnologia = len(x_tecnologia)/len(lista_tecnologia)"
      ],
      "metadata": {
        "id": "X7D0DJwV-Vd1"
      },
      "execution_count": 30,
      "outputs": []
    },
    {
      "cell_type": "code",
      "source": [
        "vocabulario_saude = dict()\n",
        "for token in lista_saude:\n",
        "  if token in vocabulario_saude:\n",
        "    vocabulario_saude[token] +=1\n",
        "else:\n",
        "    vocabulario_saude[token] = 1\n",
        "x_saude = vocabulario_saude.keys()\n",
        "riqueza_lexical_saude = len(x_saude)/len(lista_saude)"
      ],
      "metadata": {
        "id": "11R54auL-iV9"
      },
      "execution_count": 31,
      "outputs": []
    },
    {
      "cell_type": "code",
      "source": [
        "vocabulario_moda = dict()\n",
        "for token in lista_moda:\n",
        "  if token in vocabulario_moda:\n",
        "    vocabulario_moda[token] +=1\n",
        "else:\n",
        "    vocabulario_moda[token] = 1\n",
        "x_moda = vocabulario_moda.keys()\n",
        "riqueza_lexical_moda = len(x_moda)/len(lista_moda)"
      ],
      "metadata": {
        "id": "qR9WzkAP_pKf"
      },
      "execution_count": 19,
      "outputs": []
    },
    {
      "cell_type": "code",
      "source": [
        "riqueza_lexical_tecnologia, riqueza_lexical_saude, riqueza_lexical_moda"
      ],
      "metadata": {
        "colab": {
          "base_uri": "https://localhost:8080/"
        },
        "id": "HU4yKGdWAhvY",
        "outputId": "fb8ecee1-94a0-4555-f144-fb92b4d927e0"
      },
      "execution_count": 23,
      "outputs": [
        {
          "output_type": "execute_result",
          "data": {
            "text/plain": [
              "(0.007936507936507936, 0.0078125, 0.007575757575757576)"
            ]
          },
          "metadata": {},
          "execution_count": 23
        }
      ]
    },
    {
      "cell_type": "code",
      "source": [
        "maior_riqueza_lexical = max(riqueza_lexical_tecnologia, riqueza_lexical_saude, riqueza_lexical_moda)\n",
        "f'maior_riqueza_lexical é: {maior_riqueza_lexical}'"
      ],
      "metadata": {
        "colab": {
          "base_uri": "https://localhost:8080/",
          "height": 36
        },
        "id": "todkqRNC_-QE",
        "outputId": "6a9ec51e-fd6f-4119-8a65-c8796a55dcd9"
      },
      "execution_count": 24,
      "outputs": [
        {
          "output_type": "execute_result",
          "data": {
            "text/plain": [
              "'maior_riqueza_lexical é: 0.007936507936507936'"
            ],
            "application/vnd.google.colaboratory.intrinsic+json": {
              "type": "string"
            }
          },
          "metadata": {},
          "execution_count": 24
        }
      ]
    },
    {
      "cell_type": "code",
      "source": [
        "maior_riqueza_lexical = max(riqueza_lexical_tecnologia, riqueza_lexical_saude, riqueza_lexical_moda)\n",
        "if maior_riqueza_lexical == riqueza_lexical_tecnologia:\n",
        "  nome = \"Tecnologia\"\n",
        "elif maior_riqueza_lexical == riqueza_lexical_saude:\n",
        "  nome = \"Saúde\"\n",
        "else:\n",
        "  nome = \"Moda\"\n",
        "\n",
        "print(f\"A maior riqueza lexical é {maior_riqueza_lexical}, encontrada em: {nome}\")\n"
      ],
      "metadata": {
        "colab": {
          "base_uri": "https://localhost:8080/"
        },
        "id": "KoQyVcPoBp0y",
        "outputId": "3ee4a3f5-2f38-4e3f-833b-26b7626ceb60"
      },
      "execution_count": 25,
      "outputs": [
        {
          "output_type": "stream",
          "name": "stdout",
          "text": [
            "A maior riqueza lexical é 0.007936507936507936, encontrada em: Tecnologia\n"
          ]
        }
      ]
    }
  ]
}