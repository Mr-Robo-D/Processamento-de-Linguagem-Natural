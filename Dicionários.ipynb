{
  "nbformat": 4,
  "nbformat_minor": 0,
  "metadata": {
    "colab": {
      "provenance": [],
      "authorship_tag": "ABX9TyPsKzMX7wKb3zmacXlKhlqZ",
      "include_colab_link": true
    },
    "kernelspec": {
      "name": "python3",
      "display_name": "Python 3"
    },
    "language_info": {
      "name": "python"
    }
  },
  "cells": [
    {
      "cell_type": "markdown",
      "metadata": {
        "id": "view-in-github",
        "colab_type": "text"
      },
      "source": [
        "<a href=\"https://colab.research.google.com/github/Mr-Robo-D/Processamento-de-Linguagem-Natural/blob/main/Dicion%C3%A1rios.ipynb\" target=\"_parent\"><img src=\"https://colab.research.google.com/assets/colab-badge.svg\" alt=\"Open In Colab\"/></a>"
      ]
    },
    {
      "cell_type": "markdown",
      "source": [
        "Ex02-Lista de dicionários contendo comentários e emoções:\n",
        "\n",
        "Instruções\n",
        "\n",
        "Crie uma lista de dicionários para armazenar comentários e emoções conforme a tabela abaixo:\n",
        "Faça uma rotina para totalizar a quantidade de comentários negativos e comentários positivos\n",
        "Calcule e mostre na tela a proporção de cada sentimento em relação ao total de comentários\n",
        "Faça uma rotina para mostrar apenas os comentários positivos\n",
        "Adicione uma chave em cada dicionário chamado sentimento_valor que conterá 0 se o sentimento for negativo ou 1 se o sentimento for positivo."
      ],
      "metadata": {
        "id": "KbJ6Kec4a5tw"
      }
    },
    {
      "cell_type": "code",
      "execution_count": null,
      "metadata": {
        "id": "CQSOBped0jiY"
      },
      "outputs": [],
      "source": [
        "comentarios = [{\"Autor\": \"Joao\", \"Comentario\": \"Estou tão feliz hoje!\", \"Sentimento\": \"Positivo\"},\n",
        "{\"Autor\": \"Maria\", \"Comentario\": \"Este filme é tão triste.\", \"Sentimento\": \"Negativo\"},\n",
        "{\"Autor\": \"Carlos\", \"Comentario\": \"Que dia chuvoso entediante... \", \"Sentimento\": \"Positivo\"},\n",
        "{\"Autor\": \"Ana\", \"Comentario\": \"Adorei a nova música da banda!  \", \"Sentimento\": \"Negativo\"},\n",
        "{\"Autor\": \"Roberto\", \"Comentario\": \"Eureka, consegui resolver este problema\", \"Sentimento\": \"Positivo\"}]"
      ]
    },
    {
      "cell_type": "code",
      "source": [
        "def rotina():\n",
        "    positivo = 0\n",
        "    negativo = 0\n",
        "\n",
        "    for i in comentarios:\n",
        "       if i[\"Sentimento\"] == \"Positivo\":\n",
        "           positivo += 1\n",
        "       else:\n",
        "            negativo += 1\n",
        "    return positivo, negativo"
      ],
      "metadata": {
        "id": "ueVoYrj20pmi"
      },
      "execution_count": null,
      "outputs": []
    },
    {
      "cell_type": "code",
      "source": [
        "total = rotina()[0] + rotina()[1]\n",
        "\n",
        "proporcao_de_positivo = (rotina()[0]/total)*100\n",
        "proporcao_de_negativo = (rotina()[1]/ total)*100\n",
        "print(f'Positiva={proporcao_de_positivo}%\\nNegativa={proporcao_de_negativo}%')"
      ],
      "metadata": {
        "colab": {
          "base_uri": "https://localhost:8080/"
        },
        "id": "brDtufc91HV-",
        "outputId": "6d84ba21-2db5-4e83-c9c9-1e7c62d91794"
      },
      "execution_count": null,
      "outputs": [
        {
          "output_type": "stream",
          "name": "stdout",
          "text": [
            "Positiva=60.0%\n",
            "Negativa=40.0%\n"
          ]
        }
      ]
    },
    {
      "cell_type": "code",
      "source": [
        "for i in comentarios:\n",
        "  if i[\"Sentimento\"] == \"Positivo\":\n",
        "    print(i[\"Comentario\"])"
      ],
      "metadata": {
        "colab": {
          "base_uri": "https://localhost:8080/"
        },
        "id": "58CFOZV-1Zdf",
        "outputId": "25f63efe-7e43-4dd4-a402-0978b749acbf"
      },
      "execution_count": null,
      "outputs": [
        {
          "output_type": "stream",
          "name": "stdout",
          "text": [
            "Estou tão feliz hoje!\n",
            "Que dia chuvoso entediante... \n",
            "Eureka, consegui resolver este problema\n"
          ]
        }
      ]
    },
    {
      "cell_type": "code",
      "source": [
        "for i in comentarios:\n",
        "  comentarios_atualizados = i\n",
        "  if comentarios_atualizados[\"Sentimento\"] == \"Positivo\":\n",
        "    comentarios_atualizados[\"Sentimento_Valor\"] =  1\n",
        "  else:\n",
        "    comentarios_atualizados[\"Sentimento_Valor\"] =  0\n",
        "  print(comentarios_atualizados)"
      ],
      "metadata": {
        "colab": {
          "base_uri": "https://localhost:8080/"
        },
        "id": "U6YFEsrh1hqP",
        "outputId": "48e10a07-c0fe-4773-f569-46b16351a577"
      },
      "execution_count": null,
      "outputs": [
        {
          "output_type": "stream",
          "name": "stdout",
          "text": [
            "{'Autor': 'Joao', 'Comentario': 'Estou tão feliz hoje!', 'Sentimento': 'Positivo', 'Sentimento_Valor': 1}\n",
            "{'Autor': 'Maria', 'Comentario': 'Este filme é tão triste.', 'Sentimento': 'Negativo', 'Sentimento_Valor': 0}\n",
            "{'Autor': 'Carlos', 'Comentario': 'Que dia chuvoso entediante... ', 'Sentimento': 'Positivo', 'Sentimento_Valor': 1}\n",
            "{'Autor': 'Ana', 'Comentario': 'Adorei a nova música da banda!  ', 'Sentimento': 'Negativo', 'Sentimento_Valor': 0}\n",
            "{'Autor': 'Roberto', 'Comentario': 'Eureka, consegui resolver este problema', 'Sentimento': 'Positivo', 'Sentimento_Valor': 1}\n"
          ]
        }
      ]
    }
  ]
}